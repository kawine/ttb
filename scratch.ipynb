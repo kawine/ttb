{
 "cells": [
  {
   "cell_type": "code",
   "execution_count": 22,
   "metadata": {},
   "outputs": [
    {
     "name": "stdout",
     "output_type": "stream",
     "text": [
      "The autoreload extension is already loaded. To reload it, use:\n",
      "  %reload_ext autoreload\n"
     ]
    }
   ],
   "source": [
    "%load_ext autoreload\n",
    "%autoreload 2"
   ]
  },
  {
   "cell_type": "code",
   "execution_count": 23,
   "metadata": {},
   "outputs": [],
   "source": [
    "from ttb import WILDSDataset"
   ]
  },
  {
   "cell_type": "code",
   "execution_count": 26,
   "metadata": {},
   "outputs": [],
   "source": [
    "ds = WILDSDataset(\"waterbirds\", T=5000, log_step=1000, gamma=0.1, alpha = 1e-3, sampler=\"default\")\n",
    "ds.reset()"
   ]
  },
  {
   "cell_type": "code",
   "execution_count": 25,
   "metadata": {},
   "outputs": [
    {
     "data": {
      "text/plain": [
       "<Figure size 432x288 with 0 Axes>"
      ]
     },
     "metadata": {},
     "output_type": "display_data"
    },
    {
     "data": {
      "image/png": "[encoded data removed]",
      "text/plain": [
       "<Figure size 419.375x360 with 1 Axes>"
      ]
     },
     "metadata": {
      "needs_background": "light"
     },
     "output_type": "display_data"
    }
   ],
   "source": [
    "ds.visualize()"
   ]
  },
  {
   "cell_type": "code",
   "execution_count": 20,
   "metadata": {},
   "outputs": [
    {
     "data": {
      "text/plain": [
       "[('train', 4735),\n",
       " ('test', 2804),\n",
       " ('train', 975),\n",
       " ('test', 733),\n",
       " ('test', 5366),\n",
       " ('test', 2946),\n",
       " ('test', 4208),\n",
       " ('train', 3538),\n",
       " ('train', 2027),\n",
       " ('test', 4753),\n",
       " ('test', 1409),\n",
       " ('train', 572),\n",
       " ('train', 3255),\n",
       " ('train', 1714),\n",
       " ('train', 313),\n",
       " ('test', 608),\n",
       " ('test', 3337),\n",
       " ('train', 2516),\n",
       " ('test', 5627),\n",
       " ('train', 762),\n",
       " ('test', 1000),\n",
       " ('test', 3271),\n",
       " ('test', 2149),\n",
       " ('train', 2107),\n",
       " ('train', 473),\n",
       " ('test', 4324),\n",
       " ('test', 3345),\n",
       " ('train', 2857),\n",
       " ('train', 4402),\n",
       " ('train', 1045),\n",
       " ('train', 1516),\n",
       " ('train', 1654),\n",
       " ('test', 1196),\n",
       " ('test', 4238),\n",
       " ('test', 342),\n",
       " ('test', 1719),\n",
       " ('train', 1537),\n",
       " ('train', 3330),\n",
       " ('test', 3566),\n",
       " ('test', 913),\n",
       " ('test', 1028),\n",
       " ('test', 1961),\n",
       " ('test', 2010),\n",
       " ('test', 3658),\n",
       " ('train', 1476),\n",
       " ('train', 831),\n",
       " ('train', 2564),\n",
       " ('test', 5639),\n",
       " ('test', 2429),\n",
       " ('test', 4942)]"
      ]
     },
     "execution_count": 20,
     "metadata": {},
     "output_type": "execute_result"
    }
   ],
   "source": [
    "ds.permutation"
   ]
  },
  {
   "cell_type": "code",
   "execution_count": null,
   "metadata": {},
   "outputs": [],
   "source": []
  }
 ],
 "metadata": {
  "interpreter": {
   "hash": "125e6e438f6bf169001eca1db6f9b76bb8629196a71bc9c758d46cb6243b56f5"
  },
  "kernelspec": {
   "display_name": "Python 3.9.10 ('ttb')",
   "language": "python",
   "name": "python3"
  },
  "language_info": {
   "codemirror_mode": {
    "name": "ipython",
    "version": 3
   },
   "file_extension": ".py",
   "mimetype": "text/x-python",
   "name": "python",
   "nbconvert_exporter": "python",
   "pygments_lexer": "ipython3",
   "version": "3.9.10"
  },
  "orig_nbformat": 4
 },
 "nbformat": 4,
 "nbformat_minor": 2
}
